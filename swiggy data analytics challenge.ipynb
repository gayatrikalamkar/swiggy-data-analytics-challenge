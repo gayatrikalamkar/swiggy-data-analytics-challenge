{
 "cells": [
  {
   "cell_type": "code",
   "execution_count": 1,
   "id": "c807a362",
   "metadata": {},
   "outputs": [],
   "source": [
    "import pandas as pd\n",
    "import numpy as np\n",
    "import matplotlib.pyplot as plt\n",
    "import seaborn as sns\n"
   ]
  },
  {
   "cell_type": "markdown",
   "id": "9a4b1ba6",
   "metadata": {},
   "source": [
    "### load dataset"
   ]
  },
  {
   "cell_type": "code",
   "execution_count": 2,
   "id": "d41c1969",
   "metadata": {},
   "outputs": [
    {
     "data": {
      "text/html": [
       "<div>\n",
       "<style scoped>\n",
       "    .dataframe tbody tr th:only-of-type {\n",
       "        vertical-align: middle;\n",
       "    }\n",
       "\n",
       "    .dataframe tbody tr th {\n",
       "        vertical-align: top;\n",
       "    }\n",
       "\n",
       "    .dataframe thead th {\n",
       "        text-align: right;\n",
       "    }\n",
       "</style>\n",
       "<table border=\"1\" class=\"dataframe\">\n",
       "  <thead>\n",
       "    <tr style=\"text-align: right;\">\n",
       "      <th></th>\n",
       "      <th>Restaurant Name</th>\n",
       "      <th>Category</th>\n",
       "      <th>Rating</th>\n",
       "      <th>Cost for two</th>\n",
       "      <th>Veg</th>\n",
       "      <th>city</th>\n",
       "      <th>Area</th>\n",
       "      <th>Locality</th>\n",
       "      <th>Address</th>\n",
       "      <th>Long Distance Delivery</th>\n",
       "    </tr>\n",
       "  </thead>\n",
       "  <tbody>\n",
       "    <tr>\n",
       "      <th>0</th>\n",
       "      <td>KFC</td>\n",
       "      <td>American,Snacks,Biryani</td>\n",
       "      <td>3.9</td>\n",
       "      <td>400</td>\n",
       "      <td>False</td>\n",
       "      <td>Delhi</td>\n",
       "      <td>Paharganj</td>\n",
       "      <td>KFC Paharganj</td>\n",
       "      <td>KFC Restaurant 2154, Desh Bandhu Gupta Road, N...</td>\n",
       "      <td>0</td>\n",
       "    </tr>\n",
       "    <tr>\n",
       "      <th>1</th>\n",
       "      <td>McDonald's</td>\n",
       "      <td>American</td>\n",
       "      <td>4.3</td>\n",
       "      <td>400</td>\n",
       "      <td>False</td>\n",
       "      <td>Delhi</td>\n",
       "      <td>Kashmere Gate</td>\n",
       "      <td>Delhi ISBT DMRC (GF)</td>\n",
       "      <td>Delhi ISBT DMRC,ISBT DMRC Railway Station. Kas...</td>\n",
       "      <td>0</td>\n",
       "    </tr>\n",
       "    <tr>\n",
       "      <th>2</th>\n",
       "      <td>Haldiram's</td>\n",
       "      <td>Sweets,Snacks,North Indian</td>\n",
       "      <td>4.0</td>\n",
       "      <td>350</td>\n",
       "      <td>True</td>\n",
       "      <td>Delhi</td>\n",
       "      <td>Chandni Chowk</td>\n",
       "      <td>Chandni Chowk</td>\n",
       "      <td>1452/2 Near Fountain Chandni Chowk Delhi 110015</td>\n",
       "      <td>0</td>\n",
       "    </tr>\n",
       "    <tr>\n",
       "      <th>3</th>\n",
       "      <td>Chai Point</td>\n",
       "      <td>Bakery,Beverages,Maharashtrian,Snacks,Street F...</td>\n",
       "      <td>4.2</td>\n",
       "      <td>150</td>\n",
       "      <td>False</td>\n",
       "      <td>Delhi</td>\n",
       "      <td>Connaught Place</td>\n",
       "      <td>Connaught Place</td>\n",
       "      <td>Shop No - B1, B Block Middle circle , Connaugh...</td>\n",
       "      <td>0</td>\n",
       "    </tr>\n",
       "    <tr>\n",
       "      <th>4</th>\n",
       "      <td>Bikanervala Chandni Chowk</td>\n",
       "      <td>Street Food,Sweets</td>\n",
       "      <td>4.1</td>\n",
       "      <td>400</td>\n",
       "      <td>False</td>\n",
       "      <td>Delhi</td>\n",
       "      <td>Old Delhi</td>\n",
       "      <td>Old Delhi</td>\n",
       "      <td>382, NEAR FATEH PUR, CHANDNI CHOWK,110006</td>\n",
       "      <td>0</td>\n",
       "    </tr>\n",
       "    <tr>\n",
       "      <th>...</th>\n",
       "      <td>...</td>\n",
       "      <td>...</td>\n",
       "      <td>...</td>\n",
       "      <td>...</td>\n",
       "      <td>...</td>\n",
       "      <td>...</td>\n",
       "      <td>...</td>\n",
       "      <td>...</td>\n",
       "      <td>...</td>\n",
       "      <td>...</td>\n",
       "    </tr>\n",
       "    <tr>\n",
       "      <th>5993</th>\n",
       "      <td>Balaji dhaba</td>\n",
       "      <td>North Indian,Biryani,Chinese,Indian,Tandoor</td>\n",
       "      <td>3.5</td>\n",
       "      <td>400</td>\n",
       "      <td>False</td>\n",
       "      <td>Hyderabad</td>\n",
       "      <td>Koti</td>\n",
       "      <td>Himayath Nagar</td>\n",
       "      <td>Diamond Complex, J N Road, Troop Bazar, Abids,...</td>\n",
       "      <td>0</td>\n",
       "    </tr>\n",
       "    <tr>\n",
       "      <th>5994</th>\n",
       "      <td>Mandi Restaurant</td>\n",
       "      <td>Indian,Biryani</td>\n",
       "      <td>2.9</td>\n",
       "      <td>370</td>\n",
       "      <td>False</td>\n",
       "      <td>Hyderabad</td>\n",
       "      <td>Attapur</td>\n",
       "      <td>Attapur</td>\n",
       "      <td>Main Rd, Al Fateh Colony, Ali Nagar, Kishan Ba...</td>\n",
       "      <td>1</td>\n",
       "    </tr>\n",
       "    <tr>\n",
       "      <th>5995</th>\n",
       "      <td>CHAI MORE</td>\n",
       "      <td>Fast Food,Beverages</td>\n",
       "      <td>NaN</td>\n",
       "      <td>350</td>\n",
       "      <td>False</td>\n",
       "      <td>Hyderabad</td>\n",
       "      <td>Charminar</td>\n",
       "      <td>Charminar</td>\n",
       "      <td>20-7-627, Opp MD Shukoor Kaman, Fathe Darwaza,...</td>\n",
       "      <td>0</td>\n",
       "    </tr>\n",
       "    <tr>\n",
       "      <th>5996</th>\n",
       "      <td>Bean &amp; Leaf Cafe</td>\n",
       "      <td>European,South American</td>\n",
       "      <td>3.8</td>\n",
       "      <td>450</td>\n",
       "      <td>False</td>\n",
       "      <td>Hyderabad</td>\n",
       "      <td>Santoshnagar &amp; Saidabad</td>\n",
       "      <td>Santoshnagar &amp; Saidabad</td>\n",
       "      <td>2372, Champapet Rd, Nagarjuna Colony, New Sant...</td>\n",
       "      <td>1</td>\n",
       "    </tr>\n",
       "    <tr>\n",
       "      <th>5997</th>\n",
       "      <td>Miami Shakes &amp; More</td>\n",
       "      <td>Beverages,Desserts</td>\n",
       "      <td>2.7</td>\n",
       "      <td>300</td>\n",
       "      <td>False</td>\n",
       "      <td>Hyderabad</td>\n",
       "      <td>Kachiguda</td>\n",
       "      <td>Kachiguda</td>\n",
       "      <td>No: 3-2-842, 1st Floor, Above Scoops IceCream,...</td>\n",
       "      <td>1</td>\n",
       "    </tr>\n",
       "  </tbody>\n",
       "</table>\n",
       "<p>5998 rows × 10 columns</p>\n",
       "</div>"
      ],
      "text/plain": [
       "                Restaurant Name  \\\n",
       "0                           KFC   \n",
       "1                    McDonald's   \n",
       "2                    Haldiram's   \n",
       "3                    Chai Point   \n",
       "4     Bikanervala Chandni Chowk   \n",
       "...                         ...   \n",
       "5993               Balaji dhaba   \n",
       "5994           Mandi Restaurant   \n",
       "5995                  CHAI MORE   \n",
       "5996           Bean & Leaf Cafe   \n",
       "5997        Miami Shakes & More   \n",
       "\n",
       "                                               Category  Rating  Cost for two  \\\n",
       "0                               American,Snacks,Biryani     3.9           400   \n",
       "1                                              American     4.3           400   \n",
       "2                            Sweets,Snacks,North Indian     4.0           350   \n",
       "3     Bakery,Beverages,Maharashtrian,Snacks,Street F...     4.2           150   \n",
       "4                                    Street Food,Sweets     4.1           400   \n",
       "...                                                 ...     ...           ...   \n",
       "5993        North Indian,Biryani,Chinese,Indian,Tandoor     3.5           400   \n",
       "5994                                     Indian,Biryani     2.9           370   \n",
       "5995                                Fast Food,Beverages     NaN           350   \n",
       "5996                            European,South American     3.8           450   \n",
       "5997                                 Beverages,Desserts     2.7           300   \n",
       "\n",
       "        Veg       city                     Area                 Locality  \\\n",
       "0     False      Delhi                Paharganj            KFC Paharganj   \n",
       "1     False      Delhi            Kashmere Gate     Delhi ISBT DMRC (GF)   \n",
       "2      True      Delhi            Chandni Chowk            Chandni Chowk   \n",
       "3     False      Delhi          Connaught Place          Connaught Place   \n",
       "4     False      Delhi                Old Delhi                Old Delhi   \n",
       "...     ...        ...                      ...                      ...   \n",
       "5993  False  Hyderabad                     Koti           Himayath Nagar   \n",
       "5994  False  Hyderabad                  Attapur                  Attapur   \n",
       "5995  False  Hyderabad                Charminar                Charminar   \n",
       "5996  False  Hyderabad  Santoshnagar & Saidabad  Santoshnagar & Saidabad   \n",
       "5997  False  Hyderabad                Kachiguda                Kachiguda   \n",
       "\n",
       "                                                Address  \\\n",
       "0     KFC Restaurant 2154, Desh Bandhu Gupta Road, N...   \n",
       "1     Delhi ISBT DMRC,ISBT DMRC Railway Station. Kas...   \n",
       "2       1452/2 Near Fountain Chandni Chowk Delhi 110015   \n",
       "3     Shop No - B1, B Block Middle circle , Connaugh...   \n",
       "4             382, NEAR FATEH PUR, CHANDNI CHOWK,110006   \n",
       "...                                                 ...   \n",
       "5993  Diamond Complex, J N Road, Troop Bazar, Abids,...   \n",
       "5994  Main Rd, Al Fateh Colony, Ali Nagar, Kishan Ba...   \n",
       "5995  20-7-627, Opp MD Shukoor Kaman, Fathe Darwaza,...   \n",
       "5996  2372, Champapet Rd, Nagarjuna Colony, New Sant...   \n",
       "5997  No: 3-2-842, 1st Floor, Above Scoops IceCream,...   \n",
       "\n",
       "      Long Distance Delivery  \n",
       "0                          0  \n",
       "1                          0  \n",
       "2                          0  \n",
       "3                          0  \n",
       "4                          0  \n",
       "...                      ...  \n",
       "5993                       0  \n",
       "5994                       1  \n",
       "5995                       0  \n",
       "5996                       1  \n",
       "5997                       1  \n",
       "\n",
       "[5998 rows x 10 columns]"
      ]
     },
     "execution_count": 2,
     "metadata": {},
     "output_type": "execute_result"
    }
   ],
   "source": [
    "df = pd.read_csv(r\"C:\\Users\\asus\\Downloads\\swiggy_dataset.csv\")\n",
    "df"
   ]
  },
  {
   "cell_type": "markdown",
   "id": "2036b166",
   "metadata": {},
   "source": [
    "### Exploring data"
   ]
  },
  {
   "cell_type": "code",
   "execution_count": 3,
   "id": "60e1651e",
   "metadata": {},
   "outputs": [
    {
     "data": {
      "text/html": [
       "<div>\n",
       "<style scoped>\n",
       "    .dataframe tbody tr th:only-of-type {\n",
       "        vertical-align: middle;\n",
       "    }\n",
       "\n",
       "    .dataframe tbody tr th {\n",
       "        vertical-align: top;\n",
       "    }\n",
       "\n",
       "    .dataframe thead th {\n",
       "        text-align: right;\n",
       "    }\n",
       "</style>\n",
       "<table border=\"1\" class=\"dataframe\">\n",
       "  <thead>\n",
       "    <tr style=\"text-align: right;\">\n",
       "      <th></th>\n",
       "      <th>Restaurant Name</th>\n",
       "      <th>Category</th>\n",
       "      <th>Rating</th>\n",
       "      <th>Cost for two</th>\n",
       "      <th>Veg</th>\n",
       "      <th>city</th>\n",
       "      <th>Area</th>\n",
       "      <th>Locality</th>\n",
       "      <th>Address</th>\n",
       "      <th>Long Distance Delivery</th>\n",
       "    </tr>\n",
       "  </thead>\n",
       "  <tbody>\n",
       "    <tr>\n",
       "      <th>0</th>\n",
       "      <td>KFC</td>\n",
       "      <td>American,Snacks,Biryani</td>\n",
       "      <td>3.9</td>\n",
       "      <td>400</td>\n",
       "      <td>False</td>\n",
       "      <td>Delhi</td>\n",
       "      <td>Paharganj</td>\n",
       "      <td>KFC Paharganj</td>\n",
       "      <td>KFC Restaurant 2154, Desh Bandhu Gupta Road, N...</td>\n",
       "      <td>0</td>\n",
       "    </tr>\n",
       "    <tr>\n",
       "      <th>1</th>\n",
       "      <td>McDonald's</td>\n",
       "      <td>American</td>\n",
       "      <td>4.3</td>\n",
       "      <td>400</td>\n",
       "      <td>False</td>\n",
       "      <td>Delhi</td>\n",
       "      <td>Kashmere Gate</td>\n",
       "      <td>Delhi ISBT DMRC (GF)</td>\n",
       "      <td>Delhi ISBT DMRC,ISBT DMRC Railway Station. Kas...</td>\n",
       "      <td>0</td>\n",
       "    </tr>\n",
       "    <tr>\n",
       "      <th>2</th>\n",
       "      <td>Haldiram's</td>\n",
       "      <td>Sweets,Snacks,North Indian</td>\n",
       "      <td>4.0</td>\n",
       "      <td>350</td>\n",
       "      <td>True</td>\n",
       "      <td>Delhi</td>\n",
       "      <td>Chandni Chowk</td>\n",
       "      <td>Chandni Chowk</td>\n",
       "      <td>1452/2 Near Fountain Chandni Chowk Delhi 110015</td>\n",
       "      <td>0</td>\n",
       "    </tr>\n",
       "    <tr>\n",
       "      <th>3</th>\n",
       "      <td>Chai Point</td>\n",
       "      <td>Bakery,Beverages,Maharashtrian,Snacks,Street F...</td>\n",
       "      <td>4.2</td>\n",
       "      <td>150</td>\n",
       "      <td>False</td>\n",
       "      <td>Delhi</td>\n",
       "      <td>Connaught Place</td>\n",
       "      <td>Connaught Place</td>\n",
       "      <td>Shop No - B1, B Block Middle circle , Connaugh...</td>\n",
       "      <td>0</td>\n",
       "    </tr>\n",
       "    <tr>\n",
       "      <th>4</th>\n",
       "      <td>Bikanervala Chandni Chowk</td>\n",
       "      <td>Street Food,Sweets</td>\n",
       "      <td>4.1</td>\n",
       "      <td>400</td>\n",
       "      <td>False</td>\n",
       "      <td>Delhi</td>\n",
       "      <td>Old Delhi</td>\n",
       "      <td>Old Delhi</td>\n",
       "      <td>382, NEAR FATEH PUR, CHANDNI CHOWK,110006</td>\n",
       "      <td>0</td>\n",
       "    </tr>\n",
       "  </tbody>\n",
       "</table>\n",
       "</div>"
      ],
      "text/plain": [
       "             Restaurant Name  \\\n",
       "0                        KFC   \n",
       "1                 McDonald's   \n",
       "2                 Haldiram's   \n",
       "3                 Chai Point   \n",
       "4  Bikanervala Chandni Chowk   \n",
       "\n",
       "                                            Category  Rating  Cost for two  \\\n",
       "0                            American,Snacks,Biryani     3.9           400   \n",
       "1                                           American     4.3           400   \n",
       "2                         Sweets,Snacks,North Indian     4.0           350   \n",
       "3  Bakery,Beverages,Maharashtrian,Snacks,Street F...     4.2           150   \n",
       "4                                 Street Food,Sweets     4.1           400   \n",
       "\n",
       "     Veg   city             Area              Locality  \\\n",
       "0  False  Delhi        Paharganj         KFC Paharganj   \n",
       "1  False  Delhi    Kashmere Gate  Delhi ISBT DMRC (GF)   \n",
       "2   True  Delhi    Chandni Chowk         Chandni Chowk   \n",
       "3  False  Delhi  Connaught Place       Connaught Place   \n",
       "4  False  Delhi        Old Delhi             Old Delhi   \n",
       "\n",
       "                                             Address  Long Distance Delivery  \n",
       "0  KFC Restaurant 2154, Desh Bandhu Gupta Road, N...                       0  \n",
       "1  Delhi ISBT DMRC,ISBT DMRC Railway Station. Kas...                       0  \n",
       "2    1452/2 Near Fountain Chandni Chowk Delhi 110015                       0  \n",
       "3  Shop No - B1, B Block Middle circle , Connaugh...                       0  \n",
       "4          382, NEAR FATEH PUR, CHANDNI CHOWK,110006                       0  "
      ]
     },
     "execution_count": 3,
     "metadata": {},
     "output_type": "execute_result"
    }
   ],
   "source": [
    "df.head()"
   ]
  },
  {
   "cell_type": "code",
   "execution_count": 4,
   "id": "23d5dbb5",
   "metadata": {
    "scrolled": true
   },
   "outputs": [
    {
     "name": "stdout",
     "output_type": "stream",
     "text": [
      "<class 'pandas.core.frame.DataFrame'>\n",
      "RangeIndex: 5998 entries, 0 to 5997\n",
      "Data columns (total 10 columns):\n",
      " #   Column                  Non-Null Count  Dtype  \n",
      "---  ------                  --------------  -----  \n",
      " 0   Restaurant Name         5998 non-null   object \n",
      " 1   Category                5998 non-null   object \n",
      " 2   Rating                  3282 non-null   float64\n",
      " 3   Cost for two            5998 non-null   int64  \n",
      " 4   Veg                     5998 non-null   bool   \n",
      " 5   city                    5998 non-null   object \n",
      " 6   Area                    5998 non-null   object \n",
      " 7   Locality                5995 non-null   object \n",
      " 8   Address                 5998 non-null   object \n",
      " 9   Long Distance Delivery  5998 non-null   int64  \n",
      "dtypes: bool(1), float64(1), int64(2), object(6)\n",
      "memory usage: 427.7+ KB\n"
     ]
    }
   ],
   "source": [
    "df.info()"
   ]
  },
  {
   "cell_type": "code",
   "execution_count": 5,
   "id": "9b18a1b4",
   "metadata": {},
   "outputs": [],
   "source": [
    "df['Restaurant Name'] = df['Restaurant Name'].astype(str)"
   ]
  },
  {
   "cell_type": "code",
   "execution_count": 6,
   "id": "b6391457",
   "metadata": {},
   "outputs": [
    {
     "name": "stdout",
     "output_type": "stream",
     "text": [
      "<class 'pandas.core.frame.DataFrame'>\n",
      "RangeIndex: 5998 entries, 0 to 5997\n",
      "Data columns (total 10 columns):\n",
      " #   Column                  Non-Null Count  Dtype  \n",
      "---  ------                  --------------  -----  \n",
      " 0   Restaurant Name         5998 non-null   object \n",
      " 1   Category                5998 non-null   object \n",
      " 2   Rating                  3282 non-null   float64\n",
      " 3   Cost for two            5998 non-null   int64  \n",
      " 4   Veg                     5998 non-null   bool   \n",
      " 5   city                    5998 non-null   object \n",
      " 6   Area                    5998 non-null   object \n",
      " 7   Locality                5995 non-null   object \n",
      " 8   Address                 5998 non-null   object \n",
      " 9   Long Distance Delivery  5998 non-null   int64  \n",
      "dtypes: bool(1), float64(1), int64(2), object(6)\n",
      "memory usage: 427.7+ KB\n"
     ]
    }
   ],
   "source": [
    "df.info()"
   ]
  },
  {
   "cell_type": "code",
   "execution_count": 7,
   "id": "94fdbfc3",
   "metadata": {},
   "outputs": [
    {
     "data": {
      "text/plain": [
       "Index(['Restaurant Name', 'Category', 'Rating', 'Cost for two', 'Veg', 'city',\n",
       "       'Area', 'Locality', 'Address', 'Long Distance Delivery'],\n",
       "      dtype='object')"
      ]
     },
     "execution_count": 7,
     "metadata": {},
     "output_type": "execute_result"
    }
   ],
   "source": [
    "df.columns"
   ]
  },
  {
   "cell_type": "code",
   "execution_count": 8,
   "id": "44552bf7",
   "metadata": {},
   "outputs": [
    {
     "data": {
      "text/plain": [
       "0                             KFC\n",
       "1                      McDonald's\n",
       "2                      Haldiram's\n",
       "3                      Chai Point\n",
       "4       Bikanervala Chandni Chowk\n",
       "                  ...            \n",
       "5993                 Balaji dhaba\n",
       "5994             Mandi Restaurant\n",
       "5995                    CHAI MORE\n",
       "5996             Bean & Leaf Cafe\n",
       "5997          Miami Shakes & More\n",
       "Name: Restaurant Name, Length: 5998, dtype: object"
      ]
     },
     "execution_count": 8,
     "metadata": {},
     "output_type": "execute_result"
    }
   ],
   "source": [
    "df['Restaurant Name'].astype(str)"
   ]
  },
  {
   "cell_type": "code",
   "execution_count": 9,
   "id": "ee40d5b3",
   "metadata": {
    "scrolled": true
   },
   "outputs": [
    {
     "data": {
      "text/html": [
       "<div>\n",
       "<style scoped>\n",
       "    .dataframe tbody tr th:only-of-type {\n",
       "        vertical-align: middle;\n",
       "    }\n",
       "\n",
       "    .dataframe tbody tr th {\n",
       "        vertical-align: top;\n",
       "    }\n",
       "\n",
       "    .dataframe thead th {\n",
       "        text-align: right;\n",
       "    }\n",
       "</style>\n",
       "<table border=\"1\" class=\"dataframe\">\n",
       "  <thead>\n",
       "    <tr style=\"text-align: right;\">\n",
       "      <th></th>\n",
       "      <th>Rating</th>\n",
       "      <th>Cost for two</th>\n",
       "      <th>Long Distance Delivery</th>\n",
       "    </tr>\n",
       "  </thead>\n",
       "  <tbody>\n",
       "    <tr>\n",
       "      <th>count</th>\n",
       "      <td>3282.000000</td>\n",
       "      <td>5998.000000</td>\n",
       "      <td>5998.000000</td>\n",
       "    </tr>\n",
       "    <tr>\n",
       "      <th>mean</th>\n",
       "      <td>4.073705</td>\n",
       "      <td>354.138046</td>\n",
       "      <td>0.517172</td>\n",
       "    </tr>\n",
       "    <tr>\n",
       "      <th>std</th>\n",
       "      <td>0.399001</td>\n",
       "      <td>255.878437</td>\n",
       "      <td>0.499747</td>\n",
       "    </tr>\n",
       "    <tr>\n",
       "      <th>min</th>\n",
       "      <td>1.700000</td>\n",
       "      <td>0.000000</td>\n",
       "      <td>0.000000</td>\n",
       "    </tr>\n",
       "    <tr>\n",
       "      <th>25%</th>\n",
       "      <td>3.900000</td>\n",
       "      <td>200.000000</td>\n",
       "      <td>0.000000</td>\n",
       "    </tr>\n",
       "    <tr>\n",
       "      <th>50%</th>\n",
       "      <td>4.100000</td>\n",
       "      <td>300.000000</td>\n",
       "      <td>1.000000</td>\n",
       "    </tr>\n",
       "    <tr>\n",
       "      <th>75%</th>\n",
       "      <td>4.300000</td>\n",
       "      <td>400.000000</td>\n",
       "      <td>1.000000</td>\n",
       "    </tr>\n",
       "    <tr>\n",
       "      <th>max</th>\n",
       "      <td>5.000000</td>\n",
       "      <td>3100.000000</td>\n",
       "      <td>1.000000</td>\n",
       "    </tr>\n",
       "  </tbody>\n",
       "</table>\n",
       "</div>"
      ],
      "text/plain": [
       "            Rating  Cost for two  Long Distance Delivery\n",
       "count  3282.000000   5998.000000             5998.000000\n",
       "mean      4.073705    354.138046                0.517172\n",
       "std       0.399001    255.878437                0.499747\n",
       "min       1.700000      0.000000                0.000000\n",
       "25%       3.900000    200.000000                0.000000\n",
       "50%       4.100000    300.000000                1.000000\n",
       "75%       4.300000    400.000000                1.000000\n",
       "max       5.000000   3100.000000                1.000000"
      ]
     },
     "execution_count": 9,
     "metadata": {},
     "output_type": "execute_result"
    }
   ],
   "source": [
    "df.describe()"
   ]
  },
  {
   "cell_type": "markdown",
   "id": "1adf0be6",
   "metadata": {},
   "source": [
    "### Data cleaning"
   ]
  },
  {
   "cell_type": "code",
   "execution_count": null,
   "id": "ff10be50",
   "metadata": {},
   "outputs": [],
   "source": [
    "#checking null values"
   ]
  },
  {
   "cell_type": "code",
   "execution_count": 10,
   "id": "c00d420e",
   "metadata": {},
   "outputs": [
    {
     "data": {
      "text/plain": [
       "Restaurant Name              0\n",
       "Category                     0\n",
       "Rating                    2716\n",
       "Cost for two                 0\n",
       "Veg                          0\n",
       "city                         0\n",
       "Area                         0\n",
       "Locality                     3\n",
       "Address                      0\n",
       "Long Distance Delivery       0\n",
       "dtype: int64"
      ]
     },
     "execution_count": 10,
     "metadata": {},
     "output_type": "execute_result"
    }
   ],
   "source": [
    "df.isnull().sum()"
   ]
  },
  {
   "cell_type": "code",
   "execution_count": null,
   "id": "c65d7e7f",
   "metadata": {},
   "outputs": [],
   "source": [
    "#treating missing values"
   ]
  },
  {
   "cell_type": "code",
   "execution_count": 11,
   "id": "dc295c81",
   "metadata": {},
   "outputs": [],
   "source": [
    "df['Rating'].fillna(df['Rating'].median, inplace=True)\n"
   ]
  },
  {
   "cell_type": "code",
   "execution_count": 12,
   "id": "bebb796b",
   "metadata": {},
   "outputs": [
    {
     "data": {
      "text/plain": [
       "Restaurant Name           0\n",
       "Category                  0\n",
       "Rating                    0\n",
       "Cost for two              0\n",
       "Veg                       0\n",
       "city                      0\n",
       "Area                      0\n",
       "Locality                  3\n",
       "Address                   0\n",
       "Long Distance Delivery    0\n",
       "dtype: int64"
      ]
     },
     "execution_count": 12,
     "metadata": {},
     "output_type": "execute_result"
    }
   ],
   "source": [
    "df.isnull().sum()"
   ]
  },
  {
   "cell_type": "code",
   "execution_count": 13,
   "id": "bf35dc1c",
   "metadata": {},
   "outputs": [],
   "source": [
    "df['Locality'].fillna(df['Locality'].mode()[0], inplace=True)"
   ]
  },
  {
   "cell_type": "code",
   "execution_count": 14,
   "id": "8ddb9533",
   "metadata": {},
   "outputs": [
    {
     "data": {
      "text/plain": [
       "Restaurant Name           0\n",
       "Category                  0\n",
       "Rating                    0\n",
       "Cost for two              0\n",
       "Veg                       0\n",
       "city                      0\n",
       "Area                      0\n",
       "Locality                  0\n",
       "Address                   0\n",
       "Long Distance Delivery    0\n",
       "dtype: int64"
      ]
     },
     "execution_count": 14,
     "metadata": {},
     "output_type": "execute_result"
    }
   ],
   "source": [
    "df.isnull().sum()"
   ]
  },
  {
   "cell_type": "code",
   "execution_count": 15,
   "id": "1cec4a37",
   "metadata": {},
   "outputs": [
    {
     "data": {
      "text/plain": [
       "1    3102\n",
       "0    2896\n",
       "Name: Long Distance Delivery, dtype: int64"
      ]
     },
     "execution_count": 15,
     "metadata": {},
     "output_type": "execute_result"
    }
   ],
   "source": [
    "df['Long Distance Delivery'].value_counts()"
   ]
  },
  {
   "cell_type": "code",
   "execution_count": 16,
   "id": "2cf16804",
   "metadata": {},
   "outputs": [
    {
     "data": {
      "text/html": [
       "<div>\n",
       "<style scoped>\n",
       "    .dataframe tbody tr th:only-of-type {\n",
       "        vertical-align: middle;\n",
       "    }\n",
       "\n",
       "    .dataframe tbody tr th {\n",
       "        vertical-align: top;\n",
       "    }\n",
       "\n",
       "    .dataframe thead th {\n",
       "        text-align: right;\n",
       "    }\n",
       "</style>\n",
       "<table border=\"1\" class=\"dataframe\">\n",
       "  <thead>\n",
       "    <tr style=\"text-align: right;\">\n",
       "      <th></th>\n",
       "      <th>Restaurant Name</th>\n",
       "      <th>Category</th>\n",
       "      <th>Rating</th>\n",
       "      <th>Cost for two</th>\n",
       "      <th>Veg</th>\n",
       "      <th>city</th>\n",
       "      <th>Area</th>\n",
       "      <th>Locality</th>\n",
       "      <th>Address</th>\n",
       "      <th>Long Distance Delivery</th>\n",
       "    </tr>\n",
       "  </thead>\n",
       "  <tbody>\n",
       "    <tr>\n",
       "      <th>0</th>\n",
       "      <td>KFC</td>\n",
       "      <td>American,Snacks,Biryani</td>\n",
       "      <td>3.9</td>\n",
       "      <td>400</td>\n",
       "      <td>False</td>\n",
       "      <td>Delhi</td>\n",
       "      <td>Paharganj</td>\n",
       "      <td>KFC Paharganj</td>\n",
       "      <td>KFC Restaurant 2154, Desh Bandhu Gupta Road, N...</td>\n",
       "      <td>0</td>\n",
       "    </tr>\n",
       "    <tr>\n",
       "      <th>1</th>\n",
       "      <td>McDonald's</td>\n",
       "      <td>American</td>\n",
       "      <td>4.3</td>\n",
       "      <td>400</td>\n",
       "      <td>False</td>\n",
       "      <td>Delhi</td>\n",
       "      <td>Kashmere Gate</td>\n",
       "      <td>Delhi ISBT DMRC (GF)</td>\n",
       "      <td>Delhi ISBT DMRC,ISBT DMRC Railway Station. Kas...</td>\n",
       "      <td>0</td>\n",
       "    </tr>\n",
       "    <tr>\n",
       "      <th>2</th>\n",
       "      <td>Haldiram's</td>\n",
       "      <td>Sweets,Snacks,North Indian</td>\n",
       "      <td>4.0</td>\n",
       "      <td>350</td>\n",
       "      <td>True</td>\n",
       "      <td>Delhi</td>\n",
       "      <td>Chandni Chowk</td>\n",
       "      <td>Chandni Chowk</td>\n",
       "      <td>1452/2 Near Fountain Chandni Chowk Delhi 110015</td>\n",
       "      <td>0</td>\n",
       "    </tr>\n",
       "    <tr>\n",
       "      <th>3</th>\n",
       "      <td>Chai Point</td>\n",
       "      <td>Bakery,Beverages,Maharashtrian,Snacks,Street F...</td>\n",
       "      <td>4.2</td>\n",
       "      <td>150</td>\n",
       "      <td>False</td>\n",
       "      <td>Delhi</td>\n",
       "      <td>Connaught Place</td>\n",
       "      <td>Connaught Place</td>\n",
       "      <td>Shop No - B1, B Block Middle circle , Connaugh...</td>\n",
       "      <td>0</td>\n",
       "    </tr>\n",
       "    <tr>\n",
       "      <th>4</th>\n",
       "      <td>Bikanervala Chandni Chowk</td>\n",
       "      <td>Street Food,Sweets</td>\n",
       "      <td>4.1</td>\n",
       "      <td>400</td>\n",
       "      <td>False</td>\n",
       "      <td>Delhi</td>\n",
       "      <td>Old Delhi</td>\n",
       "      <td>Old Delhi</td>\n",
       "      <td>382, NEAR FATEH PUR, CHANDNI CHOWK,110006</td>\n",
       "      <td>0</td>\n",
       "    </tr>\n",
       "  </tbody>\n",
       "</table>\n",
       "</div>"
      ],
      "text/plain": [
       "             Restaurant Name  \\\n",
       "0                        KFC   \n",
       "1                 McDonald's   \n",
       "2                 Haldiram's   \n",
       "3                 Chai Point   \n",
       "4  Bikanervala Chandni Chowk   \n",
       "\n",
       "                                            Category Rating  Cost for two  \\\n",
       "0                            American,Snacks,Biryani    3.9           400   \n",
       "1                                           American    4.3           400   \n",
       "2                         Sweets,Snacks,North Indian    4.0           350   \n",
       "3  Bakery,Beverages,Maharashtrian,Snacks,Street F...    4.2           150   \n",
       "4                                 Street Food,Sweets    4.1           400   \n",
       "\n",
       "     Veg   city             Area              Locality  \\\n",
       "0  False  Delhi        Paharganj         KFC Paharganj   \n",
       "1  False  Delhi    Kashmere Gate  Delhi ISBT DMRC (GF)   \n",
       "2   True  Delhi    Chandni Chowk         Chandni Chowk   \n",
       "3  False  Delhi  Connaught Place       Connaught Place   \n",
       "4  False  Delhi        Old Delhi             Old Delhi   \n",
       "\n",
       "                                             Address  Long Distance Delivery  \n",
       "0  KFC Restaurant 2154, Desh Bandhu Gupta Road, N...                       0  \n",
       "1  Delhi ISBT DMRC,ISBT DMRC Railway Station. Kas...                       0  \n",
       "2    1452/2 Near Fountain Chandni Chowk Delhi 110015                       0  \n",
       "3  Shop No - B1, B Block Middle circle , Connaugh...                       0  \n",
       "4          382, NEAR FATEH PUR, CHANDNI CHOWK,110006                       0  "
      ]
     },
     "execution_count": 16,
     "metadata": {},
     "output_type": "execute_result"
    }
   ],
   "source": [
    "df.head()"
   ]
  },
  {
   "cell_type": "markdown",
   "id": "54d49de4",
   "metadata": {},
   "source": [
    "### Data transformation"
   ]
  },
  {
   "cell_type": "code",
   "execution_count": 17,
   "id": "89b7d2b6",
   "metadata": {},
   "outputs": [],
   "source": [
    "df['Long Distance Delivery'] = df['Long Distance Delivery'].replace({0: 'No', 1: 'Yes'})\n"
   ]
  },
  {
   "cell_type": "code",
   "execution_count": 18,
   "id": "5cad354c",
   "metadata": {},
   "outputs": [
    {
     "data": {
      "text/html": [
       "<div>\n",
       "<style scoped>\n",
       "    .dataframe tbody tr th:only-of-type {\n",
       "        vertical-align: middle;\n",
       "    }\n",
       "\n",
       "    .dataframe tbody tr th {\n",
       "        vertical-align: top;\n",
       "    }\n",
       "\n",
       "    .dataframe thead th {\n",
       "        text-align: right;\n",
       "    }\n",
       "</style>\n",
       "<table border=\"1\" class=\"dataframe\">\n",
       "  <thead>\n",
       "    <tr style=\"text-align: right;\">\n",
       "      <th></th>\n",
       "      <th>Restaurant Name</th>\n",
       "      <th>Category</th>\n",
       "      <th>Rating</th>\n",
       "      <th>Cost for two</th>\n",
       "      <th>Veg</th>\n",
       "      <th>city</th>\n",
       "      <th>Area</th>\n",
       "      <th>Locality</th>\n",
       "      <th>Address</th>\n",
       "      <th>Long Distance Delivery</th>\n",
       "    </tr>\n",
       "  </thead>\n",
       "  <tbody>\n",
       "    <tr>\n",
       "      <th>0</th>\n",
       "      <td>KFC</td>\n",
       "      <td>American,Snacks,Biryani</td>\n",
       "      <td>3.9</td>\n",
       "      <td>400</td>\n",
       "      <td>False</td>\n",
       "      <td>Delhi</td>\n",
       "      <td>Paharganj</td>\n",
       "      <td>KFC Paharganj</td>\n",
       "      <td>KFC Restaurant 2154, Desh Bandhu Gupta Road, N...</td>\n",
       "      <td>No</td>\n",
       "    </tr>\n",
       "    <tr>\n",
       "      <th>1</th>\n",
       "      <td>McDonald's</td>\n",
       "      <td>American</td>\n",
       "      <td>4.3</td>\n",
       "      <td>400</td>\n",
       "      <td>False</td>\n",
       "      <td>Delhi</td>\n",
       "      <td>Kashmere Gate</td>\n",
       "      <td>Delhi ISBT DMRC (GF)</td>\n",
       "      <td>Delhi ISBT DMRC,ISBT DMRC Railway Station. Kas...</td>\n",
       "      <td>No</td>\n",
       "    </tr>\n",
       "    <tr>\n",
       "      <th>2</th>\n",
       "      <td>Haldiram's</td>\n",
       "      <td>Sweets,Snacks,North Indian</td>\n",
       "      <td>4.0</td>\n",
       "      <td>350</td>\n",
       "      <td>True</td>\n",
       "      <td>Delhi</td>\n",
       "      <td>Chandni Chowk</td>\n",
       "      <td>Chandni Chowk</td>\n",
       "      <td>1452/2 Near Fountain Chandni Chowk Delhi 110015</td>\n",
       "      <td>No</td>\n",
       "    </tr>\n",
       "    <tr>\n",
       "      <th>3</th>\n",
       "      <td>Chai Point</td>\n",
       "      <td>Bakery,Beverages,Maharashtrian,Snacks,Street F...</td>\n",
       "      <td>4.2</td>\n",
       "      <td>150</td>\n",
       "      <td>False</td>\n",
       "      <td>Delhi</td>\n",
       "      <td>Connaught Place</td>\n",
       "      <td>Connaught Place</td>\n",
       "      <td>Shop No - B1, B Block Middle circle , Connaugh...</td>\n",
       "      <td>No</td>\n",
       "    </tr>\n",
       "    <tr>\n",
       "      <th>4</th>\n",
       "      <td>Bikanervala Chandni Chowk</td>\n",
       "      <td>Street Food,Sweets</td>\n",
       "      <td>4.1</td>\n",
       "      <td>400</td>\n",
       "      <td>False</td>\n",
       "      <td>Delhi</td>\n",
       "      <td>Old Delhi</td>\n",
       "      <td>Old Delhi</td>\n",
       "      <td>382, NEAR FATEH PUR, CHANDNI CHOWK,110006</td>\n",
       "      <td>No</td>\n",
       "    </tr>\n",
       "  </tbody>\n",
       "</table>\n",
       "</div>"
      ],
      "text/plain": [
       "             Restaurant Name  \\\n",
       "0                        KFC   \n",
       "1                 McDonald's   \n",
       "2                 Haldiram's   \n",
       "3                 Chai Point   \n",
       "4  Bikanervala Chandni Chowk   \n",
       "\n",
       "                                            Category Rating  Cost for two  \\\n",
       "0                            American,Snacks,Biryani    3.9           400   \n",
       "1                                           American    4.3           400   \n",
       "2                         Sweets,Snacks,North Indian    4.0           350   \n",
       "3  Bakery,Beverages,Maharashtrian,Snacks,Street F...    4.2           150   \n",
       "4                                 Street Food,Sweets    4.1           400   \n",
       "\n",
       "     Veg   city             Area              Locality  \\\n",
       "0  False  Delhi        Paharganj         KFC Paharganj   \n",
       "1  False  Delhi    Kashmere Gate  Delhi ISBT DMRC (GF)   \n",
       "2   True  Delhi    Chandni Chowk         Chandni Chowk   \n",
       "3  False  Delhi  Connaught Place       Connaught Place   \n",
       "4  False  Delhi        Old Delhi             Old Delhi   \n",
       "\n",
       "                                             Address Long Distance Delivery  \n",
       "0  KFC Restaurant 2154, Desh Bandhu Gupta Road, N...                     No  \n",
       "1  Delhi ISBT DMRC,ISBT DMRC Railway Station. Kas...                     No  \n",
       "2    1452/2 Near Fountain Chandni Chowk Delhi 110015                     No  \n",
       "3  Shop No - B1, B Block Middle circle , Connaugh...                     No  \n",
       "4          382, NEAR FATEH PUR, CHANDNI CHOWK,110006                     No  "
      ]
     },
     "execution_count": 18,
     "metadata": {},
     "output_type": "execute_result"
    }
   ],
   "source": [
    "df.head()"
   ]
  },
  {
   "cell_type": "code",
   "execution_count": 19,
   "id": "c467af63",
   "metadata": {},
   "outputs": [
    {
     "data": {
      "text/plain": [
       "False    4703\n",
       "True     1295\n",
       "Name: Veg, dtype: int64"
      ]
     },
     "execution_count": 19,
     "metadata": {},
     "output_type": "execute_result"
    }
   ],
   "source": [
    "df['Veg'].value_counts()"
   ]
  },
  {
   "cell_type": "code",
   "execution_count": 20,
   "id": "40f397bc",
   "metadata": {},
   "outputs": [
    {
     "data": {
      "text/plain": [
       "Kolkata      1527\n",
       "Delhi        1424\n",
       "Mumbai       1147\n",
       "Bangalore     917\n",
       "Hyderabad     609\n",
       "Chennai       374\n",
       "Name: city, dtype: int64"
      ]
     },
     "execution_count": 20,
     "metadata": {},
     "output_type": "execute_result"
    }
   ],
   "source": [
    "df['city'].value_counts()"
   ]
  },
  {
   "cell_type": "code",
   "execution_count": 21,
   "id": "77c29b1b",
   "metadata": {},
   "outputs": [],
   "source": [
    "df['Veg'].replace({False: 'Nonveg', True: 'Veg'}, inplace=True)\n"
   ]
  },
  {
   "cell_type": "code",
   "execution_count": 22,
   "id": "5612c4f3",
   "metadata": {},
   "outputs": [
    {
     "data": {
      "text/html": [
       "<div>\n",
       "<style scoped>\n",
       "    .dataframe tbody tr th:only-of-type {\n",
       "        vertical-align: middle;\n",
       "    }\n",
       "\n",
       "    .dataframe tbody tr th {\n",
       "        vertical-align: top;\n",
       "    }\n",
       "\n",
       "    .dataframe thead th {\n",
       "        text-align: right;\n",
       "    }\n",
       "</style>\n",
       "<table border=\"1\" class=\"dataframe\">\n",
       "  <thead>\n",
       "    <tr style=\"text-align: right;\">\n",
       "      <th></th>\n",
       "      <th>Restaurant Name</th>\n",
       "      <th>Category</th>\n",
       "      <th>Rating</th>\n",
       "      <th>Cost for two</th>\n",
       "      <th>Veg</th>\n",
       "      <th>city</th>\n",
       "      <th>Area</th>\n",
       "      <th>Locality</th>\n",
       "      <th>Address</th>\n",
       "      <th>Long Distance Delivery</th>\n",
       "    </tr>\n",
       "  </thead>\n",
       "  <tbody>\n",
       "    <tr>\n",
       "      <th>0</th>\n",
       "      <td>KFC</td>\n",
       "      <td>American,Snacks,Biryani</td>\n",
       "      <td>3.9</td>\n",
       "      <td>400</td>\n",
       "      <td>Nonveg</td>\n",
       "      <td>Delhi</td>\n",
       "      <td>Paharganj</td>\n",
       "      <td>KFC Paharganj</td>\n",
       "      <td>KFC Restaurant 2154, Desh Bandhu Gupta Road, N...</td>\n",
       "      <td>No</td>\n",
       "    </tr>\n",
       "    <tr>\n",
       "      <th>1</th>\n",
       "      <td>McDonald's</td>\n",
       "      <td>American</td>\n",
       "      <td>4.3</td>\n",
       "      <td>400</td>\n",
       "      <td>Nonveg</td>\n",
       "      <td>Delhi</td>\n",
       "      <td>Kashmere Gate</td>\n",
       "      <td>Delhi ISBT DMRC (GF)</td>\n",
       "      <td>Delhi ISBT DMRC,ISBT DMRC Railway Station. Kas...</td>\n",
       "      <td>No</td>\n",
       "    </tr>\n",
       "    <tr>\n",
       "      <th>2</th>\n",
       "      <td>Haldiram's</td>\n",
       "      <td>Sweets,Snacks,North Indian</td>\n",
       "      <td>4.0</td>\n",
       "      <td>350</td>\n",
       "      <td>Veg</td>\n",
       "      <td>Delhi</td>\n",
       "      <td>Chandni Chowk</td>\n",
       "      <td>Chandni Chowk</td>\n",
       "      <td>1452/2 Near Fountain Chandni Chowk Delhi 110015</td>\n",
       "      <td>No</td>\n",
       "    </tr>\n",
       "    <tr>\n",
       "      <th>3</th>\n",
       "      <td>Chai Point</td>\n",
       "      <td>Bakery,Beverages,Maharashtrian,Snacks,Street F...</td>\n",
       "      <td>4.2</td>\n",
       "      <td>150</td>\n",
       "      <td>Nonveg</td>\n",
       "      <td>Delhi</td>\n",
       "      <td>Connaught Place</td>\n",
       "      <td>Connaught Place</td>\n",
       "      <td>Shop No - B1, B Block Middle circle , Connaugh...</td>\n",
       "      <td>No</td>\n",
       "    </tr>\n",
       "    <tr>\n",
       "      <th>4</th>\n",
       "      <td>Bikanervala Chandni Chowk</td>\n",
       "      <td>Street Food,Sweets</td>\n",
       "      <td>4.1</td>\n",
       "      <td>400</td>\n",
       "      <td>Nonveg</td>\n",
       "      <td>Delhi</td>\n",
       "      <td>Old Delhi</td>\n",
       "      <td>Old Delhi</td>\n",
       "      <td>382, NEAR FATEH PUR, CHANDNI CHOWK,110006</td>\n",
       "      <td>No</td>\n",
       "    </tr>\n",
       "  </tbody>\n",
       "</table>\n",
       "</div>"
      ],
      "text/plain": [
       "             Restaurant Name  \\\n",
       "0                        KFC   \n",
       "1                 McDonald's   \n",
       "2                 Haldiram's   \n",
       "3                 Chai Point   \n",
       "4  Bikanervala Chandni Chowk   \n",
       "\n",
       "                                            Category Rating  Cost for two  \\\n",
       "0                            American,Snacks,Biryani    3.9           400   \n",
       "1                                           American    4.3           400   \n",
       "2                         Sweets,Snacks,North Indian    4.0           350   \n",
       "3  Bakery,Beverages,Maharashtrian,Snacks,Street F...    4.2           150   \n",
       "4                                 Street Food,Sweets    4.1           400   \n",
       "\n",
       "      Veg   city             Area              Locality  \\\n",
       "0  Nonveg  Delhi        Paharganj         KFC Paharganj   \n",
       "1  Nonveg  Delhi    Kashmere Gate  Delhi ISBT DMRC (GF)   \n",
       "2     Veg  Delhi    Chandni Chowk         Chandni Chowk   \n",
       "3  Nonveg  Delhi  Connaught Place       Connaught Place   \n",
       "4  Nonveg  Delhi        Old Delhi             Old Delhi   \n",
       "\n",
       "                                             Address Long Distance Delivery  \n",
       "0  KFC Restaurant 2154, Desh Bandhu Gupta Road, N...                     No  \n",
       "1  Delhi ISBT DMRC,ISBT DMRC Railway Station. Kas...                     No  \n",
       "2    1452/2 Near Fountain Chandni Chowk Delhi 110015                     No  \n",
       "3  Shop No - B1, B Block Middle circle , Connaugh...                     No  \n",
       "4          382, NEAR FATEH PUR, CHANDNI CHOWK,110006                     No  "
      ]
     },
     "execution_count": 22,
     "metadata": {},
     "output_type": "execute_result"
    }
   ],
   "source": [
    "df.head()"
   ]
  },
  {
   "cell_type": "code",
   "execution_count": 23,
   "id": "29663d77",
   "metadata": {
    "scrolled": true
   },
   "outputs": [
    {
     "data": {
      "text/plain": [
       "NIC Natural Ice Creams    7\n",
       "Pizza Hut                 6\n",
       "The Good Bowl             6\n",
       "The Belgian Waffle Co.    6\n",
       "Subway                    6\n",
       "                         ..\n",
       "Spoon Of Love             1\n",
       "Asian by white light      1\n",
       "KCROASTERS by Koinonia    1\n",
       "Cremeyum Creamery         1\n",
       "Miami Shakes & More       1\n",
       "Name: Restaurant Name, Length: 5635, dtype: int64"
      ]
     },
     "execution_count": 23,
     "metadata": {},
     "output_type": "execute_result"
    }
   ],
   "source": [
    "df['Restaurant Name'].value_counts()"
   ]
  },
  {
   "cell_type": "markdown",
   "id": "17224d01",
   "metadata": {},
   "source": [
    "### Data visualization"
   ]
  },
  {
   "cell_type": "code",
   "execution_count": 104,
   "id": "f50b3b5a",
   "metadata": {},
   "outputs": [
    {
     "data": {
      "image/png": "[encoded data removed]",
      "text/plain": [
       "<Figure size 1000x300 with 1 Axes>"
      ]
     },
     "metadata": {},
     "output_type": "display_data"
    }
   ],
   "source": [
    "plt.figure(figsize=(10,3))\n",
    "df['Rating'].plot(kind='kde',color='g')\n",
    "plt.grid()"
   ]
  },
  {
   "cell_type": "raw",
   "id": "0d0c19a6",
   "metadata": {},
   "source": [
    "Kernel Density Estimation (KDE) plot for the 'Rating' column data from the DataFrame 'df'. A KDE plot is a way to visualize the probability density function of a continuous random variable."
   ]
  },
  {
   "cell_type": "code",
   "execution_count": 24,
   "id": "1e3ab77d",
   "metadata": {},
   "outputs": [
    {
     "data": {
      "image/png": "[encoded data removed]",
      "text/plain": [
       "<Figure size 640x480 with 1 Axes>"
      ]
     },
     "metadata": {},
     "output_type": "display_data"
    }
   ],
   "source": [
    "df['Veg'].value_counts().plot(kind = 'pie',autopct = '%0.2f%%',explode =( 0,0.1),colors = ('b','r'))\n",
    "plt.title('Value counts for veg and noveg Restaurants')\n",
    "plt.show()"
   ]
  },
  {
   "cell_type": "raw",
   "id": "32632703",
   "metadata": {},
   "source": [
    "The resulting pie chart visually represents the distribution of restaurant types based on whether they are categorized as 'Veg' or 'Non-Veg\n",
    "This visualization helps to easily compare the proportions of 'Veg' and 'Non-Veg' restaurants within the dataset."
   ]
  },
  {
   "cell_type": "code",
   "execution_count": 25,
   "id": "d0c41ddb",
   "metadata": {
    "scrolled": true
   },
   "outputs": [
    {
     "data": {
      "image/png": "[encoded data removed]",
      "text/plain": [
       "<Figure size 640x480 with 1 Axes>"
      ]
     },
     "metadata": {},
     "output_type": "display_data"
    }
   ],
   "source": [
    "df['Long Distance Delivery'].value_counts().plot(kind = 'bar',color=['yellow','green'])\n",
    "plt.title('value count for distance delivery')\n",
    "plt.text(0,3105,'3102',color = 'black')\n",
    "plt.text(1,2899,'2896',color = 'black')\n",
    "plt.show()"
   ]
  },
  {
   "cell_type": "raw",
   "id": "13956fa8",
   "metadata": {},
   "source": [
    "The resulting bar plot visually represents the distribution of restaurants based on whether they offer long-distance delivery or not:\n",
    "\n",
    "The x-axis likely represents the categories 'Yes' and 'No', denoting whether a restaurant offers long-distance delivery.\n",
    "The y-axis represents the count of restaurants falling into each category.\n",
    "The yellow-colored bar represents the count of restaurants offering long-distance delivery ('Yes'), while the green-colored bar represents the count of restaurants not offering long-distance delivery ('No')."
   ]
  },
  {
   "cell_type": "code",
   "execution_count": 34,
   "id": "f969765c",
   "metadata": {
    "scrolled": true
   },
   "outputs": [
    {
     "data": {
      "image/png": "[encoded data removed]",
      "text/plain": [
       "<Figure size 640x480 with 1 Axes>"
      ]
     },
     "metadata": {},
     "output_type": "display_data"
    }
   ],
   "source": [
    "df['city'].value_counts().plot(kind = 'pie',autopct = '%0.2f%%',explode =( 0,0,0,0,0,0.1))\n",
    "plt.title('Value counts for cities')\n",
    "plt.show()"
   ]
  },
  {
   "cell_type": "raw",
   "id": "9dfbd1f9",
   "metadata": {},
   "source": [
    "The resulting pie chart visually represents the distribution of restaurants across different cities based on the 'city' column in the dataset\n",
    "Each slice of the pie represents a specific city.\n",
    "The size of each slice corresponds to the proportion of restaurants located in that particular city relative to the total number of restaurants.\n",
    "The percentage values displayed inside the pie chart indicate the percentage of restaurants in each city relative to the whole."
   ]
  },
  {
   "cell_type": "code",
   "execution_count": 71,
   "id": "d92e94a1",
   "metadata": {
    "scrolled": true
   },
   "outputs": [
    {
     "data": {
      "image/png": "[encoded data removed]",
      "text/plain": [
       "<Figure size 600x600 with 1 Axes>"
      ]
     },
     "metadata": {},
     "output_type": "display_data"
    }
   ],
   "source": [
    "plt.figure(figsize=(6, 6))\n",
    "sns.boxplot(data = df,x = 'Veg' ,y = 'Cost for two')\n",
    "plt.title(\"price Distribution Analysis by restaurants\")\n",
    "plt.show()"
   ]
  },
  {
   "cell_type": "raw",
   "id": "b48ea3ec",
   "metadata": {},
   "source": [
    "The box plot allows for a comparison of the distribution of 'Cost for two' between vegetarian ('Veg') and non-vegetarian ('Non-Veg') restaurants.\n",
    "The box in the plot illustrates the interquartile range (IQR), with the median (50th percentile) indicated by the line inside the box. The bottom and top edges of the box represent the 25th and 75th percentiles, respectively.\n",
    "Any data points falling beyond the whiskers are considered outliers and are plotted individually as points."
   ]
  },
  {
   "cell_type": "code",
   "execution_count": 46,
   "id": "0f565e4d",
   "metadata": {},
   "outputs": [],
   "source": [
    "top_10_Restaurants = df.groupby('city')['Restaurant Name'].count().sort_values(ascending=False).head(10)\n",
    "top_10_Restaurants = top_10_Restaurants.reset_index()\n",
    "top_10_Restaurants = top_10_Restaurants.rename(columns={'Area':'No_of_Rest'})"
   ]
  },
  {
   "cell_type": "code",
   "execution_count": 47,
   "id": "6071ee45",
   "metadata": {},
   "outputs": [
    {
     "data": {
      "text/html": [
       "<div>\n",
       "<style scoped>\n",
       "    .dataframe tbody tr th:only-of-type {\n",
       "        vertical-align: middle;\n",
       "    }\n",
       "\n",
       "    .dataframe tbody tr th {\n",
       "        vertical-align: top;\n",
       "    }\n",
       "\n",
       "    .dataframe thead th {\n",
       "        text-align: right;\n",
       "    }\n",
       "</style>\n",
       "<table border=\"1\" class=\"dataframe\">\n",
       "  <thead>\n",
       "    <tr style=\"text-align: right;\">\n",
       "      <th></th>\n",
       "      <th>city</th>\n",
       "      <th>Restaurant Name</th>\n",
       "    </tr>\n",
       "  </thead>\n",
       "  <tbody>\n",
       "    <tr>\n",
       "      <th>0</th>\n",
       "      <td>Kolkata</td>\n",
       "      <td>1527</td>\n",
       "    </tr>\n",
       "    <tr>\n",
       "      <th>1</th>\n",
       "      <td>Delhi</td>\n",
       "      <td>1424</td>\n",
       "    </tr>\n",
       "    <tr>\n",
       "      <th>2</th>\n",
       "      <td>Mumbai</td>\n",
       "      <td>1147</td>\n",
       "    </tr>\n",
       "    <tr>\n",
       "      <th>3</th>\n",
       "      <td>Bangalore</td>\n",
       "      <td>917</td>\n",
       "    </tr>\n",
       "    <tr>\n",
       "      <th>4</th>\n",
       "      <td>Hyderabad</td>\n",
       "      <td>609</td>\n",
       "    </tr>\n",
       "  </tbody>\n",
       "</table>\n",
       "</div>"
      ],
      "text/plain": [
       "        city  Restaurant Name\n",
       "0    Kolkata             1527\n",
       "1      Delhi             1424\n",
       "2     Mumbai             1147\n",
       "3  Bangalore              917\n",
       "4  Hyderabad              609"
      ]
     },
     "execution_count": 47,
     "metadata": {},
     "output_type": "execute_result"
    }
   ],
   "source": [
    "top_10_Restaurants.head()"
   ]
  },
  {
   "cell_type": "code",
   "execution_count": 103,
   "id": "a1d0f676",
   "metadata": {
    "scrolled": true
   },
   "outputs": [
    {
     "data": {
      "image/png": "[encoded data removed]",
      "text/plain": [
       "<Figure size 800x1000 with 1 Axes>"
      ]
     },
     "metadata": {},
     "output_type": "display_data"
    }
   ],
   "source": [
    "plt.figure(figsize=(8, 10))  \n",
    "plt.bar(top_10_restaurants['Restaurant Name'], top_10_restaurants['Rating'], color='skyblue')\n",
    "plt.ylabel('Ratings')\n",
    "plt.title('Top 10 Restaurants and Their Ratings')\n",
    "plt.ylim(0, 5) \n",
    "\n",
    "plt.xticks(rotation=90)  # Rotate x-axis labels for better visibility\n",
    "plt.tight_layout()\n",
    "plt.show()\n"
   ]
  },
  {
   "cell_type": "raw",
   "id": "a8aad730",
   "metadata": {},
   "source": [
    "Overall, the graph displays the ratings of the top 10 restaurants using vertical bars, allowing for a quick comparison of their ratings."
   ]
  },
  {
   "cell_type": "code",
   "execution_count": 101,
   "id": "6f3d42a6",
   "metadata": {},
   "outputs": [
    {
     "data": {
      "image/png": "[encoded data removed]",
      "text/plain": [
       "<Figure size 1000x800 with 1 Axes>"
      ]
     },
     "metadata": {},
     "output_type": "display_data"
    }
   ],
   "source": [
    "top_10_categories = df['Category'].value_counts().nlargest(10).index\n",
    "df_top_categories = df[df['Category'].isin(top_10_categories)]\n",
    "\n",
    "plt.figure(figsize=(10, 8))\n",
    "plt.title('Distribution of Ratings Across Top Categories')\n",
    "plt.xlabel('Category')\n",
    "plt.ylabel('Rating')\n",
    "box_plot = sns.boxplot(x='Rating', y='Category', data=df_top_categories, palette='Set3')\n",
    "\n",
    "\n",
    "plt.show()\n"
   ]
  },
  {
   "cell_type": "raw",
   "id": "09018134",
   "metadata": {},
   "source": [
    "The box plot visually compares the distribution of ratings across the top 10 categories.\n",
    "Each box represents the distribution of ratings within a specific category.\n",
    "The horizontal line inside each box represents the median rating of that category.\n",
    "The boxes show the interquartile range (IQR) of ratings, with whiskers extending to show the range of the majority of the data."
   ]
  },
  {
   "cell_type": "code",
   "execution_count": null,
   "id": "d1a738d3",
   "metadata": {},
   "outputs": [],
   "source": []
  }
 ],
 "metadata": {
  "kernelspec": {
   "display_name": "Python 3 (ipykernel)",
   "language": "python",
   "name": "python3"
  },
  "language_info": {
   "codemirror_mode": {
    "name": "ipython",
    "version": 3
   },
   "file_extension": ".py",
   "mimetype": "text/x-python",
   "name": "python",
   "nbconvert_exporter": "python",
   "pygments_lexer": "ipython3",
   "version": "3.9.13"
  }
 },
 "nbformat": 4,
 "nbformat_minor": 5
}
